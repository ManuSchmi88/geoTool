{
 "cells": [
  {
   "cell_type": "code",
   "execution_count": 109,
   "metadata": {
    "collapsed": false
   },
   "outputs": [],
   "source": [
    "\"\"\"Maybe the imports can go in the class? Is this better? so much I do not know...\"\"\"\n",
    "import numpy as np\n",
    "import matplotlib.pyplot as plt\n",
    "    \n",
    "\n",
    "class RMS(object):\n",
    "    \"\"\"create a rammsounding class\"\"\"\n",
    "\n",
    "    def __init__(self):\n",
    "        \"\"\"Initializes the rms-class and creates storage for depth and counts\n",
    "        self.depth  = Array with 0.1m increments until end of rms\n",
    "        self.counts = Array with same length as self.depth which stores countes per 0.1m \"\"\"\n",
    "                \n",
    "        self.depth = []\n",
    "        self.counts = []\n",
    "    \n",
    "    def userInputBase(self):\n",
    "        \"\"\"This is the main input function which asks the user about stuff\"\"\"\n",
    "        \n",
    "        while True:\n",
    "            try:\n",
    "                self.startDepth = float(input(\"Where did you start counting?  \"))\n",
    "            except ValueError:\n",
    "                print(\"I need a number to work, sir.\")\n",
    "            else:\n",
    "                break\n",
    "                \n",
    "        while True:\n",
    "            try:\n",
    "                self.endDepth   = float(input(\"How deep is your rms?  \"))\n",
    "            except ValueError:\n",
    "                print(\"I need a number to work, sir.\")\n",
    "            else:\n",
    "                break\n",
    "                \n",
    "        self.depthLength = self.endDepth - self.startDepth\n",
    "        self.depthVec = np.arange(self.startDepth,self.endDepth+0.1, 0.1)\n",
    "        self.deepen()\n",
    "        \n",
    "    def userInputCounts(self):\n",
    "        \"\"\"creates a vector with the corresponding rms-counts.\n",
    "        Vector must have same length as depthVector\"\"\"\n",
    "        \n",
    "        tempCount = []\n",
    "        \n",
    "        for i in self.depthVec:\n",
    "            while True:\n",
    "                try:\n",
    "                    inputString = \"Counts at depth {}\".format(self.depthVec[i])\n",
    "                    tempCount.append(int(input(\"Counts at depth {:f}:  \".format(i))))\n",
    "                except ValueError:\n",
    "                    print(\"This is not a number you idiot. Try again!\")\n",
    "                else:\n",
    "                    break\n",
    "        \n",
    "        self.countVec = tempCount.copy()\n",
    "        \n",
    "    def deepen(self):\n",
    "        \"\"\"Calculates depth-vector and appends it to self.depth\"\"\"\n",
    "\n",
    "        self.depthLength = self.endDepth - self.startDepth\n",
    "        self.depthVec = np.arange(self.startDepth,self.endDepth+0.1, 0.1)\n",
    "        \n",
    "    def depthCountPlot(self):\n",
    "        \"\"\"Create a nice plot of depth vs. counts\"\"\"\n",
    "        %matplotlib inline\n",
    "        fig, ax = plt.subplots(figsize=[8,9])\n",
    "        profile = plt.plot(self.countVec,self.depthVec)\n",
    "        plt.xlim([0,max(self.countVec)+5])\n",
    "        plt.ylim([max(self.depthVec),0])\n",
    "        #Moves the label and the ticks to top of the plot\n",
    "        ax.xaxis.set_ticks_position('top')\n",
    "        ax.xaxis.set_label_position('top')\n",
    "        #Axis label and format\n",
    "        ax.xaxis.set_label_text(\"RMS Counts\", fontsize = 21)\n",
    "        ax.yaxis.set_label_text(\"Depth [m]\", fontsize = 21)\n",
    "        #Shows Grid\n",
    "        plt.grid()\n",
    "\n",
    "        \n",
    "        "
   ]
  },
  {
   "cell_type": "code",
   "execution_count": 110,
   "metadata": {
    "collapsed": true
   },
   "outputs": [],
   "source": [
    "rms1 = RMS()"
   ]
  },
  {
   "cell_type": "code",
   "execution_count": 111,
   "metadata": {
    "collapsed": false
   },
   "outputs": [
    {
     "name": "stdout",
     "output_type": "stream",
     "text": [
      "Where did you start counting?  0\n",
      "How deep is your rms?  2.3\n"
     ]
    }
   ],
   "source": [
    "rms1.userInputBase()"
   ]
  },
  {
   "cell_type": "code",
   "execution_count": 112,
   "metadata": {
    "collapsed": false
   },
   "outputs": [
    {
     "name": "stderr",
     "output_type": "stream",
     "text": [
      "/home/manu/anaconda3/lib/python3.5/site-packages/ipykernel/__main__.py:49: VisibleDeprecationWarning: using a non-integer number instead of an integer will result in an error in the future\n"
     ]
    },
    {
     "name": "stdout",
     "output_type": "stream",
     "text": [
      "Counts at depth 0.000000:  4\n",
      "Counts at depth 0.100000:  5\n",
      "Counts at depth 0.200000:  3\n",
      "Counts at depth 0.300000:  4\n",
      "Counts at depth 0.400000:  5\n",
      "Counts at depth 0.500000:  6\n",
      "Counts at depth 0.600000:  7\n",
      "Counts at depth 0.700000:  6\n",
      "Counts at depth 0.800000:  5\n",
      "Counts at depth 0.900000:  4\n",
      "Counts at depth 1.000000:  3\n",
      "Counts at depth 1.100000:  4\n",
      "Counts at depth 1.200000:  5\n",
      "Counts at depth 1.300000:  6\n",
      "Counts at depth 1.400000:  7\n",
      "Counts at depth 1.500000:  5\n",
      "Counts at depth 1.600000:  4\n",
      "Counts at depth 1.700000:  3\n",
      "Counts at depth 1.800000:  \n",
      "This is not a number you idiot. Try again!\n",
      "Counts at depth 1.800000:  5\n",
      "Counts at depth 1.900000:  6\n",
      "Counts at depth 2.000000:  7\n",
      "Counts at depth 2.100000:  5\n",
      "Counts at depth 2.200000:  4\n",
      "Counts at depth 2.300000:  45\n"
     ]
    }
   ],
   "source": [
    "rms1.userInputCounts()"
   ]
  },
  {
   "cell_type": "code",
   "execution_count": 113,
   "metadata": {
    "collapsed": false
   },
   "outputs": [
    {
     "data": {
      "text/plain": [
       "array([ 0. ,  0.1,  0.2,  0.3,  0.4,  0.5,  0.6,  0.7,  0.8,  0.9,  1. ,\n",
       "        1.1,  1.2,  1.3,  1.4,  1.5,  1.6,  1.7,  1.8,  1.9,  2. ,  2.1,\n",
       "        2.2,  2.3])"
      ]
     },
     "execution_count": 113,
     "metadata": {},
     "output_type": "execute_result"
    }
   ],
   "source": [
    "rms1.depthVec"
   ]
  },
  {
   "cell_type": "code",
   "execution_count": 114,
   "metadata": {
    "collapsed": false
   },
   "outputs": [
    {
     "data": {
      "text/plain": [
       "[4, 5, 3, 4, 5, 6, 7, 6, 5, 4, 3, 4, 5, 6, 7, 5, 4, 3, 5, 6, 7, 5, 4, 45]"
      ]
     },
     "execution_count": 114,
     "metadata": {},
     "output_type": "execute_result"
    }
   ],
   "source": [
    "rms1.countVec"
   ]
  },
  {
   "cell_type": "code",
   "execution_count": 115,
   "metadata": {
    "collapsed": false
   },
   "outputs": [
    {
     "data": {
      "image/png": "[encoded data removed]",
      "text/plain": [
       "<matplotlib.figure.Figure at 0x7fb5a7ddfe80>"
      ]
     },
     "metadata": {},
     "output_type": "display_data"
    }
   ],
   "source": [
    "rms1.depthCountPlot()"
   ]
  },
  {
   "cell_type": "code",
   "execution_count": null,
   "metadata": {
    "collapsed": true
   },
   "outputs": [],
   "source": []
  }
 ],
 "metadata": {
  "anaconda-cloud": {},
  "kernelspec": {
   "display_name": "Python [conda root]",
   "language": "python",
   "name": "conda-root-py"
  },
  "language_info": {
   "codemirror_mode": {
    "name": "ipython",
    "version": 3
   },
   "file_extension": ".py",
   "mimetype": "text/x-python",
   "name": "python",
   "nbconvert_exporter": "python",
   "pygments_lexer": "ipython3",
   "version": "3.5.2"
  }
 },
 "nbformat": 4,
 "nbformat_minor": 1
}
