{
 "cells": [
  {
   "cell_type": "code",
   "execution_count": 158,
   "metadata": {
    "collapsed": false
   },
   "outputs": [],
   "source": [
    "import numpy as np\n",
    "\n",
    "class RMS(object):\n",
    "    \"\"\"create a rammsounding class\"\"\"\n",
    "    \n",
    "    def __init__(self):\n",
    "        \"\"\"Initializes the rms-class and creates storage for depth and counts\n",
    "        self.depth  = Array with 0.1m increments until end of rms\n",
    "        self.counts = Array with same length as self.depth which stores countes per 0.1m \"\"\"\n",
    "                \n",
    "        self.depth = []\n",
    "        self.counts = []\n",
    "    \n",
    "    def userInputBase(self):\n",
    "        \"\"\"This is the main input function which asks the user about stuff\"\"\"\n",
    "        \n",
    "        self.startDepth = float(input(\"Where did you start counting?  \"))\n",
    "        self.endDepth   = float(input(\"How deep is your rms?  \"))\n",
    "        self.depthLength = self.endDepth - self.startDepth\n",
    "        self.depthVec = np.arange(self.startDepth,self.endDepth+0.1, 0.1)\n",
    "        \n",
    "    def userInputCounts(self):\n",
    "        \"\"\"creates a vector with the corresponding rms-counts.\n",
    "        Vector must have same length as depthVector\"\"\"\n",
    "        \n",
    "        self.countVec = []\n",
    "        self.tempCount = []\n",
    "        \n",
    "        for i in self.depthVec:\n",
    "            inputString = \"Counts at depth {}\".format(self.depthVec[i])\n",
    "            self.tempCount.append(int(input(\"Counts at depth {:f}:  \".format(i))))\n",
    "    \n",
    "    def deepen(self):\n",
    "        \"\"\"Calculates depth-vector and appends it to self.depth\"\"\"\n",
    "             \n",
    "        self.depth.append(np.arange(self.startDepth,self.endDepth+0.1 ,0.1))\n",
    "        \n",
    "        "
   ]
  },
  {
   "cell_type": "code",
   "execution_count": 159,
   "metadata": {
    "collapsed": true
   },
   "outputs": [],
   "source": [
    "rms1 = RMS()"
   ]
  },
  {
   "cell_type": "code",
   "execution_count": 160,
   "metadata": {
    "collapsed": false
   },
   "outputs": [
    {
     "name": "stdout",
     "output_type": "stream",
     "text": [
      "Where did you start counting?  0\n",
      "How deep is your rms?  1.5\n"
     ]
    }
   ],
   "source": [
    "rms1.userInputBase()"
   ]
  },
  {
   "cell_type": "code",
   "execution_count": 161,
   "metadata": {
    "collapsed": false
   },
   "outputs": [
    {
     "data": {
      "text/plain": [
       "array([ 0. ,  0.1,  0.2,  0.3,  0.4,  0.5,  0.6,  0.7,  0.8,  0.9,  1. ,\n",
       "        1.1,  1.2,  1.3,  1.4,  1.5])"
      ]
     },
     "execution_count": 161,
     "metadata": {},
     "output_type": "execute_result"
    }
   ],
   "source": [
    "rms1.depthVec"
   ]
  },
  {
   "cell_type": "code",
   "execution_count": 162,
   "metadata": {
    "collapsed": false
   },
   "outputs": [
    {
     "name": "stderr",
     "output_type": "stream",
     "text": [
      "/home/manu/anaconda3/lib/python3.5/site-packages/ipykernel/__main__.py:30: VisibleDeprecationWarning: using a non-integer number instead of an integer will result in an error in the future\n"
     ]
    },
    {
     "name": "stdout",
     "output_type": "stream",
     "text": [
      "Counts at depth 0.000000:  3\n",
      "Counts at depth 0.100000:  4\n",
      "Counts at depth 0.200000:  5\n",
      "Counts at depth 0.300000:  6\n",
      "Counts at depth 0.400000:  3\n",
      "Counts at depth 0.500000:  3\n",
      "Counts at depth 0.600000:  4\n",
      "Counts at depth 0.700000:  5\n",
      "Counts at depth 0.800000:  6\n",
      "Counts at depth 0.900000:  3\n",
      "Counts at depth 1.000000:  4\n",
      "Counts at depth 1.100000:  5\n",
      "Counts at depth 1.200000:  6\n",
      "Counts at depth 1.300000:  7\n",
      "Counts at depth 1.400000:  5\n",
      "Counts at depth 1.500000:  4\n"
     ]
    }
   ],
   "source": [
    "rms1.userInputCounts()"
   ]
  },
  {
   "cell_type": "code",
   "execution_count": 163,
   "metadata": {
    "collapsed": true
   },
   "outputs": [],
   "source": [
    "rms1.deepen()"
   ]
  },
  {
   "cell_type": "code",
   "execution_count": 146,
   "metadata": {
    "collapsed": false
   },
   "outputs": [
    {
     "data": {
      "text/plain": [
       "[2, 3, 4, 1, 2, 3, 4, 4, 3, 2, 3]"
      ]
     },
     "execution_count": 146,
     "metadata": {},
     "output_type": "execute_result"
    }
   ],
   "source": [
    "rms1.tempCount"
   ]
  },
  {
   "cell_type": "code",
   "execution_count": 103,
   "metadata": {
    "collapsed": false
   },
   "outputs": [
    {
     "name": "stdout",
     "output_type": "stream",
     "text": [
      "0.0\n",
      "0.1\n",
      "0.2\n",
      "0.3\n",
      "0.4\n",
      "0.5\n",
      "0.6\n",
      "0.7\n",
      "0.8\n",
      "0.9\n",
      "1.0\n"
     ]
    }
   ],
   "source": [
    "for i in rms1.depthVec:\n",
    "    print(i)"
   ]
  },
  {
   "cell_type": "code",
   "execution_count": 59,
   "metadata": {
    "collapsed": false
   },
   "outputs": [
    {
     "data": {
      "text/plain": [
       "range(0, 10)"
      ]
     },
     "execution_count": 59,
     "metadata": {},
     "output_type": "execute_result"
    }
   ],
   "source": [
    "range(int(rms1.depthLength*10))"
   ]
  }
 ],
 "metadata": {
  "anaconda-cloud": {},
  "kernelspec": {
   "display_name": "Python [conda root]",
   "language": "python",
   "name": "conda-root-py"
  },
  "language_info": {
   "codemirror_mode": {
    "name": "ipython",
    "version": 3
   },
   "file_extension": ".py",
   "mimetype": "text/x-python",
   "name": "python",
   "nbconvert_exporter": "python",
   "pygments_lexer": "ipython3",
   "version": "3.5.2"
  }
 },
 "nbformat": 4,
 "nbformat_minor": 1
}
